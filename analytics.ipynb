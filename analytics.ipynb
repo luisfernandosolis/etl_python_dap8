{
  "cells": [
    {
      "cell_type": "markdown",
      "metadata": {
        "id": "3Laq57joFDFM"
      },
      "source": [
        "Conectarnos a BigQuery"
      ]
    },
    {
      "cell_type": "code",
      "execution_count": 16,
      "metadata": {
        "id": "yLCWGS5OFDFO"
      },
      "outputs": [],
      "source": [
        "from google.oauth2 import service_account ## librería para conectarnos a bigquery\n",
        "\n",
        "key_path = \"local/datapat-dap8-1a7c8bb9f202.json\"\n",
        "\n",
        "credentials = service_account.Credentials.from_service_account_file(key_path)\n"
      ]
    },
    {
      "cell_type": "code",
      "execution_count": 17,
      "metadata": {
        "id": "FNAppnCWFDFP"
      },
      "outputs": [],
      "source": [
        "from google.cloud import bigquery\n",
        "\n",
        "project_id = 'datapat-dap8'\n",
        "\n",
        "client = bigquery.Client(credentials= credentials,project=project_id)\n"
      ]
    },
    {
      "cell_type": "code",
      "execution_count": 21,
      "metadata": {
        "id": "7g52PV_NFDFP"
      },
      "outputs": [],
      "source": [
        "query_job = client.query(\n",
        "    \"\"\"\n",
        "    SELECT *\n",
        "    FROM datapat-dap8.ventasdatpath.ventas_datapath\n",
        "   \"\"\")\n",
        "results = query_job.result()\n"
      ]
    },
    {
      "cell_type": "code",
      "execution_count": 22,
      "metadata": {
        "id": "i4YiRuQOFDFP"
      },
      "outputs": [],
      "source": [
        "df_ventas=[]\n",
        "for element in results:\n",
        "    df_ventas.append(list(element))\n"
      ]
    },
    {
      "cell_type": "code",
      "execution_count": 24,
      "metadata": {},
      "outputs": [
        {
          "data": {
            "text/plain": [
              "[[datetime.date(2023, 1, 4),\n",
              "  'Jeisser Augusto Asto Sifuentes',\n",
              "  'Data Analyst Program II Edición',\n",
              "  'Maria Cisneros',\n",
              "  700.0,\n",
              "  350.0,\n",
              "  'Tiktok',\n",
              "  'Naomi Colan',\n",
              "  2.34,\n",
              "  8.9973],\n",
              " [datetime.date(2023, 1, 20),\n",
              "  'Esteban Vargas',\n",
              "  'Data Engineer Program II Edición',\n",
              "  'Maria Cisneros',\n",
              "  450.0,\n",
              "  300.0,\n",
              "  'Tiktok',\n",
              "  'Flavia Avanto',\n",
              "  2.5246,\n",
              "  9.707087],\n",
              " [datetime.date(2023, 3, 25),\n",
              "  'Gianella Matamoros Jara',\n",
              "  'Data Engineer Program II Edición',\n",
              "  'Maria Cisneros',\n",
              "  450.0,\n",
              "  300.0,\n",
              "  'Youtube',\n",
              "  'Flavia Avanto',\n",
              "  3.235,\n",
              "  12.438575],\n",
              " [datetime.date(2023, 1, 1),\n",
              "  'Kenyo Harold Cano Campos',\n",
              "  'Data Analyst Program I Edición',\n",
              "  'Fredy Saavedra',\n",
              "  600.0,\n",
              "  450.0,\n",
              "  'Facebook',\n",
              "  'Flavia Avanto',\n",
              "  0.972,\n",
              "  3.73734],\n",
              " [datetime.date(2023, 3, 2),\n",
              "  'Randy Leonel Barberena Morera',\n",
              "  'Data Scientist Program I Edición',\n",
              "  'Fredy Saavedra',\n",
              "  850.0,\n",
              "  800.0,\n",
              "  'Facebook',\n",
              "  'Naomi Colan',\n",
              "  3.234526,\n",
              "  12.43675247],\n",
              " [datetime.date(2023, 3, 12),\n",
              "  'Fabian Calderon',\n",
              "  'Data Scientist Program I Edición',\n",
              "  'Deisser Martinez',\n",
              "  850.0,\n",
              "  700.0,\n",
              "  'Facebook',\n",
              "  'Naomi Colan',\n",
              "  3.624,\n",
              "  13.934280000000001],\n",
              " [datetime.date(2023, 3, 2),\n",
              "  'Lorenzo Eduardo Reyes Flores',\n",
              "  'Data Scientist Program II Edición',\n",
              "  'Fredy Saavedra',\n",
              "  650.0,\n",
              "  500.0,\n",
              "  'Linkedin',\n",
              "  'Naomi Colan',\n",
              "  1.23456,\n",
              "  4.746883200000001],\n",
              " [datetime.date(2023, 2, 23),\n",
              "  'Yanina Montañez Monasterio',\n",
              "  'Data Scientist Program II Edición',\n",
              "  'Fredy Saavedra',\n",
              "  650.0,\n",
              "  300.0,\n",
              "  'Linkedin',\n",
              "  'Flavia Avanto',\n",
              "  2.2356,\n",
              "  8.595882],\n",
              " [datetime.date(2023, 1, 10),\n",
              "  'Christian Caballero Mueras',\n",
              "  'Data Analyst Program III Edición',\n",
              "  'Deisser Martinez',\n",
              "  550.0,\n",
              "  550.0,\n",
              "  'Instagram',\n",
              "  'Flavia Avanto',\n",
              "  1.542,\n",
              "  5.928990000000001],\n",
              " [datetime.date(2023, 1, 11),\n",
              "  'Elayne Palacios Vargas',\n",
              "  'Data Engineer Program I Edición',\n",
              "  'Deisser Martinez',\n",
              "  800.0,\n",
              "  599.0,\n",
              "  'Instagram',\n",
              "  'Flavia Avanto',\n",
              "  1.6234,\n",
              "  6.241973]]"
            ]
          },
          "execution_count": 24,
          "metadata": {},
          "output_type": "execute_result"
        }
      ],
      "source": [
        "df_ventas"
      ]
    },
    {
      "cell_type": "code",
      "execution_count": 25,
      "metadata": {
        "id": "YlTojqomFDFP"
      },
      "outputs": [],
      "source": [
        "import pandas as pd\n",
        "df_ventas=pd.DataFrame(\n",
        "            df_ventas,\n",
        "            columns=[\"fecha_matricula\",\n",
        "                     \"nombreCliente\",\n",
        "                     \"programa\",\n",
        "                     \"nombreVendedor\",\n",
        "                     \"inversion\",\n",
        "                     \"montofinalventa\",\n",
        "                     \"plataforma\",\n",
        "                     \"communityManager\",\n",
        "                     \"costoUSD\",\n",
        "                     \"costoSoles\"\n",
        "                     ])\n"
      ]
    },
    {
      "cell_type": "code",
      "execution_count": 26,
      "metadata": {
        "id": "_NbvMMNXFDFQ",
        "outputId": "cba412e8-1d69-4ef6-e42f-01b49cedb38c"
      },
      "outputs": [
        {
          "data": {
            "text/html": [
              "<div>\n",
              "<style scoped>\n",
              "    .dataframe tbody tr th:only-of-type {\n",
              "        vertical-align: middle;\n",
              "    }\n",
              "\n",
              "    .dataframe tbody tr th {\n",
              "        vertical-align: top;\n",
              "    }\n",
              "\n",
              "    .dataframe thead th {\n",
              "        text-align: right;\n",
              "    }\n",
              "</style>\n",
              "<table border=\"1\" class=\"dataframe\">\n",
              "  <thead>\n",
              "    <tr style=\"text-align: right;\">\n",
              "      <th></th>\n",
              "      <th>fecha_matricula</th>\n",
              "      <th>nombreCliente</th>\n",
              "      <th>programa</th>\n",
              "      <th>nombreVendedor</th>\n",
              "      <th>inversion</th>\n",
              "      <th>montofinalventa</th>\n",
              "      <th>plataforma</th>\n",
              "      <th>communityManager</th>\n",
              "      <th>costoUSD</th>\n",
              "      <th>costoSoles</th>\n",
              "    </tr>\n",
              "  </thead>\n",
              "  <tbody>\n",
              "    <tr>\n",
              "      <th>0</th>\n",
              "      <td>2023-01-04</td>\n",
              "      <td>Jeisser Augusto Asto Sifuentes</td>\n",
              "      <td>Data Analyst Program II Edición</td>\n",
              "      <td>Maria Cisneros</td>\n",
              "      <td>700.0</td>\n",
              "      <td>350.0</td>\n",
              "      <td>Tiktok</td>\n",
              "      <td>Naomi Colan</td>\n",
              "      <td>2.340000</td>\n",
              "      <td>8.997300</td>\n",
              "    </tr>\n",
              "    <tr>\n",
              "      <th>1</th>\n",
              "      <td>2023-01-20</td>\n",
              "      <td>Esteban Vargas</td>\n",
              "      <td>Data Engineer Program II Edición</td>\n",
              "      <td>Maria Cisneros</td>\n",
              "      <td>450.0</td>\n",
              "      <td>300.0</td>\n",
              "      <td>Tiktok</td>\n",
              "      <td>Flavia Avanto</td>\n",
              "      <td>2.524600</td>\n",
              "      <td>9.707087</td>\n",
              "    </tr>\n",
              "    <tr>\n",
              "      <th>2</th>\n",
              "      <td>2023-03-25</td>\n",
              "      <td>Gianella Matamoros Jara</td>\n",
              "      <td>Data Engineer Program II Edición</td>\n",
              "      <td>Maria Cisneros</td>\n",
              "      <td>450.0</td>\n",
              "      <td>300.0</td>\n",
              "      <td>Youtube</td>\n",
              "      <td>Flavia Avanto</td>\n",
              "      <td>3.235000</td>\n",
              "      <td>12.438575</td>\n",
              "    </tr>\n",
              "    <tr>\n",
              "      <th>3</th>\n",
              "      <td>2023-01-01</td>\n",
              "      <td>Kenyo Harold Cano Campos</td>\n",
              "      <td>Data Analyst Program I Edición</td>\n",
              "      <td>Fredy Saavedra</td>\n",
              "      <td>600.0</td>\n",
              "      <td>450.0</td>\n",
              "      <td>Facebook</td>\n",
              "      <td>Flavia Avanto</td>\n",
              "      <td>0.972000</td>\n",
              "      <td>3.737340</td>\n",
              "    </tr>\n",
              "    <tr>\n",
              "      <th>4</th>\n",
              "      <td>2023-03-02</td>\n",
              "      <td>Randy Leonel Barberena Morera</td>\n",
              "      <td>Data Scientist Program I Edición</td>\n",
              "      <td>Fredy Saavedra</td>\n",
              "      <td>850.0</td>\n",
              "      <td>800.0</td>\n",
              "      <td>Facebook</td>\n",
              "      <td>Naomi Colan</td>\n",
              "      <td>3.234526</td>\n",
              "      <td>12.436752</td>\n",
              "    </tr>\n",
              "    <tr>\n",
              "      <th>5</th>\n",
              "      <td>2023-03-12</td>\n",
              "      <td>Fabian Calderon</td>\n",
              "      <td>Data Scientist Program I Edición</td>\n",
              "      <td>Deisser Martinez</td>\n",
              "      <td>850.0</td>\n",
              "      <td>700.0</td>\n",
              "      <td>Facebook</td>\n",
              "      <td>Naomi Colan</td>\n",
              "      <td>3.624000</td>\n",
              "      <td>13.934280</td>\n",
              "    </tr>\n",
              "    <tr>\n",
              "      <th>6</th>\n",
              "      <td>2023-03-02</td>\n",
              "      <td>Lorenzo Eduardo Reyes Flores</td>\n",
              "      <td>Data Scientist Program II Edición</td>\n",
              "      <td>Fredy Saavedra</td>\n",
              "      <td>650.0</td>\n",
              "      <td>500.0</td>\n",
              "      <td>Linkedin</td>\n",
              "      <td>Naomi Colan</td>\n",
              "      <td>1.234560</td>\n",
              "      <td>4.746883</td>\n",
              "    </tr>\n",
              "    <tr>\n",
              "      <th>7</th>\n",
              "      <td>2023-02-23</td>\n",
              "      <td>Yanina Montañez Monasterio</td>\n",
              "      <td>Data Scientist Program II Edición</td>\n",
              "      <td>Fredy Saavedra</td>\n",
              "      <td>650.0</td>\n",
              "      <td>300.0</td>\n",
              "      <td>Linkedin</td>\n",
              "      <td>Flavia Avanto</td>\n",
              "      <td>2.235600</td>\n",
              "      <td>8.595882</td>\n",
              "    </tr>\n",
              "    <tr>\n",
              "      <th>8</th>\n",
              "      <td>2023-01-10</td>\n",
              "      <td>Christian Caballero Mueras</td>\n",
              "      <td>Data Analyst Program III Edición</td>\n",
              "      <td>Deisser Martinez</td>\n",
              "      <td>550.0</td>\n",
              "      <td>550.0</td>\n",
              "      <td>Instagram</td>\n",
              "      <td>Flavia Avanto</td>\n",
              "      <td>1.542000</td>\n",
              "      <td>5.928990</td>\n",
              "    </tr>\n",
              "    <tr>\n",
              "      <th>9</th>\n",
              "      <td>2023-01-11</td>\n",
              "      <td>Elayne Palacios Vargas</td>\n",
              "      <td>Data Engineer Program I Edición</td>\n",
              "      <td>Deisser Martinez</td>\n",
              "      <td>800.0</td>\n",
              "      <td>599.0</td>\n",
              "      <td>Instagram</td>\n",
              "      <td>Flavia Avanto</td>\n",
              "      <td>1.623400</td>\n",
              "      <td>6.241973</td>\n",
              "    </tr>\n",
              "  </tbody>\n",
              "</table>\n",
              "</div>"
            ],
            "text/plain": [
              "  fecha_matricula                   nombreCliente  \\\n",
              "0      2023-01-04  Jeisser Augusto Asto Sifuentes   \n",
              "1      2023-01-20                  Esteban Vargas   \n",
              "2      2023-03-25         Gianella Matamoros Jara   \n",
              "3      2023-01-01        Kenyo Harold Cano Campos   \n",
              "4      2023-03-02   Randy Leonel Barberena Morera   \n",
              "5      2023-03-12                 Fabian Calderon   \n",
              "6      2023-03-02    Lorenzo Eduardo Reyes Flores   \n",
              "7      2023-02-23      Yanina Montañez Monasterio   \n",
              "8      2023-01-10      Christian Caballero Mueras   \n",
              "9      2023-01-11          Elayne Palacios Vargas   \n",
              "\n",
              "                            programa    nombreVendedor  inversion  \\\n",
              "0    Data Analyst Program II Edición    Maria Cisneros      700.0   \n",
              "1   Data Engineer Program II Edición    Maria Cisneros      450.0   \n",
              "2   Data Engineer Program II Edición    Maria Cisneros      450.0   \n",
              "3     Data Analyst Program I Edición    Fredy Saavedra      600.0   \n",
              "4   Data Scientist Program I Edición    Fredy Saavedra      850.0   \n",
              "5   Data Scientist Program I Edición  Deisser Martinez      850.0   \n",
              "6  Data Scientist Program II Edición    Fredy Saavedra      650.0   \n",
              "7  Data Scientist Program II Edición    Fredy Saavedra      650.0   \n",
              "8   Data Analyst Program III Edición  Deisser Martinez      550.0   \n",
              "9    Data Engineer Program I Edición  Deisser Martinez      800.0   \n",
              "\n",
              "   montofinalventa plataforma communityManager  costoUSD  costoSoles  \n",
              "0            350.0     Tiktok      Naomi Colan  2.340000    8.997300  \n",
              "1            300.0     Tiktok    Flavia Avanto  2.524600    9.707087  \n",
              "2            300.0    Youtube    Flavia Avanto  3.235000   12.438575  \n",
              "3            450.0   Facebook    Flavia Avanto  0.972000    3.737340  \n",
              "4            800.0   Facebook      Naomi Colan  3.234526   12.436752  \n",
              "5            700.0   Facebook      Naomi Colan  3.624000   13.934280  \n",
              "6            500.0   Linkedin      Naomi Colan  1.234560    4.746883  \n",
              "7            300.0   Linkedin    Flavia Avanto  2.235600    8.595882  \n",
              "8            550.0  Instagram    Flavia Avanto  1.542000    5.928990  \n",
              "9            599.0  Instagram    Flavia Avanto  1.623400    6.241973  "
            ]
          },
          "execution_count": 26,
          "metadata": {},
          "output_type": "execute_result"
        }
      ],
      "source": [
        "df_ventas"
      ]
    },
    {
      "cell_type": "markdown",
      "metadata": {
        "id": "O6TnVvylFDFQ"
      },
      "source": [
        "## Análisis de datos con Python"
      ]
    },
    {
      "cell_type": "markdown",
      "metadata": {
        "id": "IDn3o0IuFDFR"
      },
      "source": [
        "1. Los programas cuyos precios sean menores que 400 dolares\n"
      ]
    },
    {
      "cell_type": "code",
      "execution_count": 29,
      "metadata": {
        "id": "TNR5CmgAFDFR",
        "outputId": "6d0c470c-b24f-4fc6-f9a3-88a89865d9ae"
      },
      "outputs": [
        {
          "data": {
            "text/html": [
              "<div>\n",
              "<style scoped>\n",
              "    .dataframe tbody tr th:only-of-type {\n",
              "        vertical-align: middle;\n",
              "    }\n",
              "\n",
              "    .dataframe tbody tr th {\n",
              "        vertical-align: top;\n",
              "    }\n",
              "\n",
              "    .dataframe thead th {\n",
              "        text-align: right;\n",
              "    }\n",
              "</style>\n",
              "<table border=\"1\" class=\"dataframe\">\n",
              "  <thead>\n",
              "    <tr style=\"text-align: right;\">\n",
              "      <th></th>\n",
              "      <th>programa</th>\n",
              "      <th>inversion</th>\n",
              "    </tr>\n",
              "  </thead>\n",
              "  <tbody>\n",
              "    <tr>\n",
              "      <th>5</th>\n",
              "      <td>Data Scientist Program I Edición</td>\n",
              "      <td>850.0</td>\n",
              "    </tr>\n",
              "  </tbody>\n",
              "</table>\n",
              "</div>"
            ],
            "text/plain": [
              "                           programa  inversion\n",
              "5  Data Scientist Program I Edición      850.0"
            ]
          },
          "execution_count": 29,
          "metadata": {},
          "output_type": "execute_result"
        }
      ],
      "source": [
        "## ¿Cuál es el programa más caro en datapath?\n",
        "df_ventas[[\"programa\",\"inversion\"]] # Seleccionamos las columnas\n",
        "\n",
        "#hacemos la agregacion y la agrupacion\n",
        "df_programa_inversion=df_ventas.groupby(\"programa\").agg(inversion=(\"inversion\",\"max\")).reset_index() # hacemos el proceso de agregación\n",
        "\n",
        "\n",
        "## hacemos el filtro del dato\n",
        "df_programa_inversion.loc[df_programa_inversion[\"inversion\"]==df_programa_inversion[\"inversion\"].max()]\n"
      ]
    },
    {
      "cell_type": "markdown",
      "metadata": {
        "id": "PuBFUMW8FDFR"
      },
      "source": [
        "2. Liste los programas que cuestan entre 300 y 500 dolares"
      ]
    },
    {
      "cell_type": "code",
      "execution_count": 30,
      "metadata": {
        "id": "lKWILv8pFDFS",
        "outputId": "b4c89bd8-e16a-4678-d263-3e6e6f3eb38e"
      },
      "outputs": [
        {
          "data": {
            "text/html": [
              "<div>\n",
              "<style scoped>\n",
              "    .dataframe tbody tr th:only-of-type {\n",
              "        vertical-align: middle;\n",
              "    }\n",
              "\n",
              "    .dataframe tbody tr th {\n",
              "        vertical-align: top;\n",
              "    }\n",
              "\n",
              "    .dataframe thead th {\n",
              "        text-align: right;\n",
              "    }\n",
              "</style>\n",
              "<table border=\"1\" class=\"dataframe\">\n",
              "  <thead>\n",
              "    <tr style=\"text-align: right;\">\n",
              "      <th></th>\n",
              "      <th>programa</th>\n",
              "      <th>inversion</th>\n",
              "    </tr>\n",
              "  </thead>\n",
              "  <tbody>\n",
              "    <tr>\n",
              "      <th>4</th>\n",
              "      <td>Data Engineer Program II Edición</td>\n",
              "      <td>450.0</td>\n",
              "    </tr>\n",
              "  </tbody>\n",
              "</table>\n",
              "</div>"
            ],
            "text/plain": [
              "                           programa  inversion\n",
              "4  Data Engineer Program II Edición      450.0"
            ]
          },
          "execution_count": 30,
          "metadata": {},
          "output_type": "execute_result"
        }
      ],
      "source": [
        "## Seleccionamos las columnas\n",
        "df_ventas[[\"programa\",\"inversion\"]]\n",
        "\n",
        "\n",
        "#hacemos la agregacion y la agrupacion\n",
        "df_programa_inversion=df_ventas.groupby(\"programa\").agg(inversion=(\"inversion\",\"max\")).reset_index() # hacemos el proceso de agregación\n",
        "\n",
        "\n",
        "## hacemos el filtro del dato\n",
        "df_programa_inversion.loc[((df_programa_inversion[\"inversion\"]>=300) & (df_programa_inversion[\"inversion\"]<=500))]\n"
      ]
    },
    {
      "cell_type": "markdown",
      "metadata": {
        "id": "INpmbrAFFDFS"
      },
      "source": [
        "3. Liste solo los programas de data analyst\n"
      ]
    },
    {
      "cell_type": "code",
      "execution_count": 31,
      "metadata": {
        "id": "r_pY3cUmFDFS",
        "outputId": "88590937-474e-445a-e5d0-efe5ae944e76"
      },
      "outputs": [
        {
          "data": {
            "text/html": [
              "<div>\n",
              "<style scoped>\n",
              "    .dataframe tbody tr th:only-of-type {\n",
              "        vertical-align: middle;\n",
              "    }\n",
              "\n",
              "    .dataframe tbody tr th {\n",
              "        vertical-align: top;\n",
              "    }\n",
              "\n",
              "    .dataframe thead th {\n",
              "        text-align: right;\n",
              "    }\n",
              "</style>\n",
              "<table border=\"1\" class=\"dataframe\">\n",
              "  <thead>\n",
              "    <tr style=\"text-align: right;\">\n",
              "      <th></th>\n",
              "      <th>fecha_matricula</th>\n",
              "      <th>nombreCliente</th>\n",
              "      <th>programa</th>\n",
              "      <th>nombreVendedor</th>\n",
              "      <th>inversion</th>\n",
              "      <th>montofinalventa</th>\n",
              "      <th>plataforma</th>\n",
              "      <th>communityManager</th>\n",
              "      <th>costoUSD</th>\n",
              "      <th>costoSoles</th>\n",
              "    </tr>\n",
              "  </thead>\n",
              "  <tbody>\n",
              "    <tr>\n",
              "      <th>0</th>\n",
              "      <td>2023-01-04</td>\n",
              "      <td>Jeisser Augusto Asto Sifuentes</td>\n",
              "      <td>Data Analyst Program II Edición</td>\n",
              "      <td>Maria Cisneros</td>\n",
              "      <td>700.0</td>\n",
              "      <td>350.0</td>\n",
              "      <td>Tiktok</td>\n",
              "      <td>Naomi Colan</td>\n",
              "      <td>2.340</td>\n",
              "      <td>8.99730</td>\n",
              "    </tr>\n",
              "    <tr>\n",
              "      <th>3</th>\n",
              "      <td>2023-01-01</td>\n",
              "      <td>Kenyo Harold Cano Campos</td>\n",
              "      <td>Data Analyst Program I Edición</td>\n",
              "      <td>Fredy Saavedra</td>\n",
              "      <td>600.0</td>\n",
              "      <td>450.0</td>\n",
              "      <td>Facebook</td>\n",
              "      <td>Flavia Avanto</td>\n",
              "      <td>0.972</td>\n",
              "      <td>3.73734</td>\n",
              "    </tr>\n",
              "    <tr>\n",
              "      <th>8</th>\n",
              "      <td>2023-01-10</td>\n",
              "      <td>Christian Caballero Mueras</td>\n",
              "      <td>Data Analyst Program III Edición</td>\n",
              "      <td>Deisser Martinez</td>\n",
              "      <td>550.0</td>\n",
              "      <td>550.0</td>\n",
              "      <td>Instagram</td>\n",
              "      <td>Flavia Avanto</td>\n",
              "      <td>1.542</td>\n",
              "      <td>5.92899</td>\n",
              "    </tr>\n",
              "  </tbody>\n",
              "</table>\n",
              "</div>"
            ],
            "text/plain": [
              "  fecha_matricula                   nombreCliente  \\\n",
              "0      2023-01-04  Jeisser Augusto Asto Sifuentes   \n",
              "3      2023-01-01        Kenyo Harold Cano Campos   \n",
              "8      2023-01-10      Christian Caballero Mueras   \n",
              "\n",
              "                           programa    nombreVendedor  inversion  \\\n",
              "0   Data Analyst Program II Edición    Maria Cisneros      700.0   \n",
              "3    Data Analyst Program I Edición    Fredy Saavedra      600.0   \n",
              "8  Data Analyst Program III Edición  Deisser Martinez      550.0   \n",
              "\n",
              "   montofinalventa plataforma communityManager  costoUSD  costoSoles  \n",
              "0            350.0     Tiktok      Naomi Colan     2.340     8.99730  \n",
              "3            450.0   Facebook    Flavia Avanto     0.972     3.73734  \n",
              "8            550.0  Instagram    Flavia Avanto     1.542     5.92899  "
            ]
          },
          "execution_count": 31,
          "metadata": {},
          "output_type": "execute_result"
        }
      ],
      "source": [
        "## Identifico la columna que me interesa\n",
        "df_ventas[[\"programa\"]]\n",
        "\n",
        "# Obtenemos los datos de los programas con nombre Data Analyst\n",
        "df_ventas.loc[df_ventas[\"programa\"].str.contains(\"Data Analyst\")]\n"
      ]
    },
    {
      "cell_type": "markdown",
      "metadata": {
        "id": "YiAPTmT7FDFT"
      },
      "source": [
        "4. ¿Listas los estudiantes matriculados en el DAP cuyo canal de ingreso fue una campaña en Facebook?"
      ]
    },
    {
      "cell_type": "code",
      "execution_count": 33,
      "metadata": {
        "id": "-FEvhSy3FDFT",
        "outputId": "3230f0fc-0e29-4120-c7ad-81b1f2d6f206"
      },
      "outputs": [
        {
          "data": {
            "text/html": [
              "<div>\n",
              "<style scoped>\n",
              "    .dataframe tbody tr th:only-of-type {\n",
              "        vertical-align: middle;\n",
              "    }\n",
              "\n",
              "    .dataframe tbody tr th {\n",
              "        vertical-align: top;\n",
              "    }\n",
              "\n",
              "    .dataframe thead th {\n",
              "        text-align: right;\n",
              "    }\n",
              "</style>\n",
              "<table border=\"1\" class=\"dataframe\">\n",
              "  <thead>\n",
              "    <tr style=\"text-align: right;\">\n",
              "      <th></th>\n",
              "      <th>nombreCliente</th>\n",
              "      <th>programa</th>\n",
              "      <th>plataforma</th>\n",
              "    </tr>\n",
              "  </thead>\n",
              "  <tbody>\n",
              "    <tr>\n",
              "      <th>3</th>\n",
              "      <td>Kenyo Harold Cano Campos</td>\n",
              "      <td>Data Analyst Program I Edición</td>\n",
              "      <td>Facebook</td>\n",
              "    </tr>\n",
              "  </tbody>\n",
              "</table>\n",
              "</div>"
            ],
            "text/plain": [
              "              nombreCliente                        programa plataforma\n",
              "3  Kenyo Harold Cano Campos  Data Analyst Program I Edición   Facebook"
            ]
          },
          "execution_count": 33,
          "metadata": {},
          "output_type": "execute_result"
        }
      ],
      "source": [
        "## Identifico la columna que me interesa\n",
        "df_estudiantes_canal=df_ventas[[\"nombreCliente\",\"programa\",\"plataforma\"]]\n",
        "\n",
        "\n",
        "## Hacer el filtro\n",
        "df_estudiantes_canal[\"programa\"].str.contains(\"Data Analyst\")\n",
        "\n",
        "\n",
        "df_estudiantes_canal.loc[\n",
        "                        (df_estudiantes_canal[\"programa\"].str.contains(\"Data Analyst\"))  # Primera condicion\n",
        "                                                    &  # and\n",
        "                        (df_estudiantes_canal[\"plataforma\"]==\"Facebook\") # Segunda condicion\n",
        "                        ]"
      ]
    },
    {
      "cell_type": "markdown",
      "metadata": {
        "id": "Q6DkurFIFDFT"
      },
      "source": [
        "## Visualizacion de datos con Python"
      ]
    },
    {
      "cell_type": "markdown",
      "metadata": {
        "id": "XukvD5E2FDFU"
      },
      "source": [
        "Visualizacion de datos con Matplotlib\n",
        "\n",
        "Requerimientos\n",
        "1. `pip install matplotlib`"
      ]
    },
    {
      "cell_type": "markdown",
      "metadata": {},
      "source": []
    },
    {
      "cell_type": "code",
      "execution_count": 35,
      "metadata": {
        "id": "vcAvKVdAFDFU"
      },
      "outputs": [],
      "source": [
        "#importamos las librerías\n",
        "import matplotlib.pyplot as plt\n",
        "import numpy as np"
      ]
    },
    {
      "cell_type": "markdown",
      "metadata": {
        "id": "AWzwDnYJFDFU"
      },
      "source": [
        "Gráfico de Lineas\n"
      ]
    },
    {
      "cell_type": "code",
      "execution_count": 36,
      "metadata": {
        "id": "9b6aiSiMFDFU",
        "outputId": "5164b348-80a9-4551-ef11-ddf7baf0ad77"
      },
      "outputs": [
        {
          "data": {
            "image/png": "[encoded data removed]",
            "text/plain": [
              "<Figure size 640x480 with 1 Axes>"
            ]
          },
          "metadata": {},
          "output_type": "display_data"
        }
      ],
      "source": [
        "\n",
        "# Por defecto, la función Plot() dribujará un gráfico de lineas.\n",
        "x = np.array([1,2,3,4,5,6])  # datos o variable x\n",
        "y = np.power(x,3) # funcion Y\n",
        "plt.plot(x,y)\n",
        "plt.show()"
      ]
    },
    {
      "cell_type": "code",
      "execution_count": 37,
      "metadata": {
        "id": "YKoU6YnLFDFU",
        "outputId": "c4643c17-a1d2-4cee-b286-0b71f476acc6"
      },
      "outputs": [
        {
          "name": "stderr",
          "output_type": "stream",
          "text": [
            "C:\\Users\\pc\\AppData\\Local\\Temp\\ipykernel_11316\\1066633232.py:5: UserWarning: marker is redundantly defined by the 'marker' keyword argument and the fmt string \"go-\" (-> marker='o'). The keyword argument will take precedence.\n",
            "  plt.plot(x, y,\n"
          ]
        },
        {
          "data": {
            "text/plain": [
              "<matplotlib.legend.Legend at 0x17ca968af80>"
            ]
          },
          "execution_count": 37,
          "metadata": {},
          "output_type": "execute_result"
        },
        {
          "data": {
            "image/png": "[encoded data removed]",
            "text/plain": [
              "<Figure size 640x480 with 1 Axes>"
            ]
          },
          "metadata": {},
          "output_type": "display_data"
        }
      ],
      "source": [
        "# Hacemos la función Seno\n",
        "x = np.linspace(0, 10, 10)\n",
        "y = np.sin(x) # Sine Graph\n",
        "\n",
        "plt.plot(x, y,\n",
        "         'go-',\n",
        "           label='Linea 01',\n",
        "           linewidth=1,\n",
        "           marker='s')\n",
        "plt.legend(loc='upper center', fontsize='large') # Añadir una leyenda"
      ]
    },
    {
      "cell_type": "markdown",
      "metadata": {
        "id": "Q-28rCdMFDFU"
      },
      "source": [
        "Caso aplicativo"
      ]
    },
    {
      "cell_type": "code",
      "execution_count": 39,
      "metadata": {
        "id": "xw70mXNVFDFV",
        "outputId": "bcaf0059-0713-4158-e048-9e168f8c845c"
      },
      "outputs": [
        {
          "name": "stderr",
          "output_type": "stream",
          "text": [
            "C:\\Users\\pc\\AppData\\Local\\Temp\\ipykernel_11316\\1078758693.py:1: UserWarning: marker is redundantly defined by the 'marker' keyword argument and the fmt string \"go-\" (-> marker='o'). The keyword argument will take precedence.\n",
            "  plt.plot(\n"
          ]
        },
        {
          "data": {
            "text/plain": [
              "[<matplotlib.lines.Line2D at 0x17ca9a169b0>]"
            ]
          },
          "execution_count": 39,
          "metadata": {},
          "output_type": "execute_result"
        },
        {
          "data": {
            "image/png": "[encoded data removed]",
            "text/plain": [
              "<Figure size 640x480 with 1 Axes>"
            ]
          },
          "metadata": {},
          "output_type": "display_data"
        }
      ],
      "source": [
        "plt.plot(\n",
        "          df_ventas[\"fecha_matricula\"].sort_values(ascending=True).apply(lambda x: x.strftime('%b-%Y')), df_ventas[\"montofinalventa\"],\n",
        "         'go-',\n",
        "          label='Linea 01',\n",
        "          linewidth=1,\n",
        "          marker='s'\n",
        "        )"
      ]
    },
    {
      "cell_type": "code",
      "execution_count": 40,
      "metadata": {
        "id": "IJFy7DKIFDFV",
        "outputId": "3c734d57-3ffa-4dcf-cc64-e6192744c43a"
      },
      "outputs": [],
      "source": [
        "df_ventas[\"mes\"]=df_ventas[\"fecha_matricula\"].apply(lambda x: x.strftime('%b-%Y'))\n",
        "\n"
      ]
    },
    {
      "cell_type": "code",
      "execution_count": 42,
      "metadata": {
        "id": "mqITcWZdFDFV",
        "outputId": "7fbd73f0-e04c-475c-e537-220abcf12bb1"
      },
      "outputs": [
        {
          "name": "stderr",
          "output_type": "stream",
          "text": [
            "C:\\Users\\pc\\AppData\\Local\\Temp\\ipykernel_11316\\2873907143.py:3: UserWarning: marker is redundantly defined by the 'marker' keyword argument and the fmt string \"go-\" (-> marker='o'). The keyword argument will take precedence.\n",
            "  plt.plot(\n"
          ]
        },
        {
          "data": {
            "text/plain": [
              "Text(0, 0.5, 'totalRecaudo')"
            ]
          },
          "execution_count": 42,
          "metadata": {},
          "output_type": "execute_result"
        },
        {
          "data": {
            "image/png": "[encoded data removed]",
            "text/plain": [
              "<Figure size 640x480 with 1 Axes>"
            ]
          },
          "metadata": {},
          "output_type": "display_data"
        }
      ],
      "source": [
        "df_ventas_mes=df_ventas.groupby(\"mes\").agg(totalRecaudo=(\"montofinalventa\",\"sum\")).reset_index()\n",
        "\n",
        "plt.plot(\n",
        "          df_ventas_mes[\"mes\"].sort_values(ascending=True), df_ventas_mes[\"totalRecaudo\"],\n",
        "         'go-',\n",
        "          label='Linea 01',\n",
        "          linewidth=1,\n",
        "          marker='s'\n",
        "        )\n",
        "plt.legend()\n",
        "plt.xlabel(\"mes\")\n",
        "plt.ylabel(\"totalRecaudo\")"
      ]
    },
    {
      "cell_type": "markdown",
      "metadata": {
        "id": "6yaQ1ECaFDFV"
      },
      "source": [
        "Gráfico de Barras\n"
      ]
    },
    {
      "cell_type": "code",
      "execution_count": 43,
      "metadata": {
        "id": "cLyOEzxfFDFV",
        "outputId": "e94a1117-ecdf-46ac-b68c-c68a2dd59b78"
      },
      "outputs": [
        {
          "ename": "ValueError",
          "evalue": "shape mismatch: objects cannot be broadcast to a single shape.  Mismatch is between arg 0 with shape (10,) and arg 1 with shape (4,).",
          "output_type": "error",
          "traceback": [
            "\u001b[1;31m---------------------------------------------------------------------------\u001b[0m",
            "\u001b[1;31mValueError\u001b[0m                                Traceback (most recent call last)",
            "\u001b[1;32mc:\\Users\\pc\\Music\\etl-python-bigquery\\analytics.ipynb Cell 30\u001b[0m line \u001b[0;36m1\n\u001b[0;32m      <a href='vscode-notebook-cell:/c%3A/Users/pc/Music/etl-python-bigquery/analytics.ipynb#X36sZmlsZQ%3D%3D?line=7'>8</a>\u001b[0m bar_labels \u001b[39m=\u001b[39m [\u001b[39m'\u001b[39m\u001b[39mred\u001b[39m\u001b[39m'\u001b[39m, \u001b[39m'\u001b[39m\u001b[39mblue\u001b[39m\u001b[39m'\u001b[39m, \u001b[39m'\u001b[39m\u001b[39m_red\u001b[39m\u001b[39m'\u001b[39m, \u001b[39m'\u001b[39m\u001b[39morange\u001b[39m\u001b[39m'\u001b[39m]\n\u001b[0;32m      <a href='vscode-notebook-cell:/c%3A/Users/pc/Music/etl-python-bigquery/analytics.ipynb#X36sZmlsZQ%3D%3D?line=8'>9</a>\u001b[0m bar_colors \u001b[39m=\u001b[39m [\u001b[39m'\u001b[39m\u001b[39mtab:red\u001b[39m\u001b[39m'\u001b[39m, \u001b[39m'\u001b[39m\u001b[39mtab:blue\u001b[39m\u001b[39m'\u001b[39m, \u001b[39m'\u001b[39m\u001b[39mtab:red\u001b[39m\u001b[39m'\u001b[39m, \u001b[39m'\u001b[39m\u001b[39mtab:orange\u001b[39m\u001b[39m'\u001b[39m]\n\u001b[1;32m---> <a href='vscode-notebook-cell:/c%3A/Users/pc/Music/etl-python-bigquery/analytics.ipynb#X36sZmlsZQ%3D%3D?line=11'>12</a>\u001b[0m ax\u001b[39m.\u001b[39;49mbar(fruits, counts, label\u001b[39m=\u001b[39;49mbar_labels, color\u001b[39m=\u001b[39;49mbar_colors)\n\u001b[0;32m     <a href='vscode-notebook-cell:/c%3A/Users/pc/Music/etl-python-bigquery/analytics.ipynb#X36sZmlsZQ%3D%3D?line=14'>15</a>\u001b[0m ax\u001b[39m.\u001b[39mset_ylabel(\u001b[39m'\u001b[39m\u001b[39mfruit supply\u001b[39m\u001b[39m'\u001b[39m)\n\u001b[0;32m     <a href='vscode-notebook-cell:/c%3A/Users/pc/Music/etl-python-bigquery/analytics.ipynb#X36sZmlsZQ%3D%3D?line=15'>16</a>\u001b[0m ax\u001b[39m.\u001b[39mset_title(\u001b[39m'\u001b[39m\u001b[39mFruit supply by kind and color\u001b[39m\u001b[39m'\u001b[39m)\n",
            "File \u001b[1;32mc:\\Users\\pc\\Music\\etl-python-bigquery\\env_etl_python\\lib\\site-packages\\matplotlib\\__init__.py:1478\u001b[0m, in \u001b[0;36m_preprocess_data.<locals>.inner\u001b[1;34m(ax, data, *args, **kwargs)\u001b[0m\n\u001b[0;32m   1475\u001b[0m \u001b[39m@functools\u001b[39m\u001b[39m.\u001b[39mwraps(func)\n\u001b[0;32m   1476\u001b[0m \u001b[39mdef\u001b[39;00m \u001b[39minner\u001b[39m(ax, \u001b[39m*\u001b[39margs, data\u001b[39m=\u001b[39m\u001b[39mNone\u001b[39;00m, \u001b[39m*\u001b[39m\u001b[39m*\u001b[39mkwargs):\n\u001b[0;32m   1477\u001b[0m     \u001b[39mif\u001b[39;00m data \u001b[39mis\u001b[39;00m \u001b[39mNone\u001b[39;00m:\n\u001b[1;32m-> 1478\u001b[0m         \u001b[39mreturn\u001b[39;00m func(ax, \u001b[39m*\u001b[39m\u001b[39mmap\u001b[39m(sanitize_sequence, args), \u001b[39m*\u001b[39m\u001b[39m*\u001b[39mkwargs)\n\u001b[0;32m   1480\u001b[0m     bound \u001b[39m=\u001b[39m new_sig\u001b[39m.\u001b[39mbind(ax, \u001b[39m*\u001b[39margs, \u001b[39m*\u001b[39m\u001b[39m*\u001b[39mkwargs)\n\u001b[0;32m   1481\u001b[0m     auto_label \u001b[39m=\u001b[39m (bound\u001b[39m.\u001b[39marguments\u001b[39m.\u001b[39mget(label_namer)\n\u001b[0;32m   1482\u001b[0m                   \u001b[39mor\u001b[39;00m bound\u001b[39m.\u001b[39mkwargs\u001b[39m.\u001b[39mget(label_namer))\n",
            "File \u001b[1;32mc:\\Users\\pc\\Music\\etl-python-bigquery\\env_etl_python\\lib\\site-packages\\matplotlib\\axes\\_axes.py:2457\u001b[0m, in \u001b[0;36mAxes.bar\u001b[1;34m(self, x, height, width, bottom, align, **kwargs)\u001b[0m\n\u001b[0;32m   2454\u001b[0m     \u001b[39mif\u001b[39;00m yerr \u001b[39mis\u001b[39;00m \u001b[39mnot\u001b[39;00m \u001b[39mNone\u001b[39;00m:\n\u001b[0;32m   2455\u001b[0m         yerr \u001b[39m=\u001b[39m \u001b[39mself\u001b[39m\u001b[39m.\u001b[39m_convert_dx(yerr, y0, y, \u001b[39mself\u001b[39m\u001b[39m.\u001b[39mconvert_yunits)\n\u001b[1;32m-> 2457\u001b[0m x, height, width, y, linewidth, hatch \u001b[39m=\u001b[39m np\u001b[39m.\u001b[39;49mbroadcast_arrays(\n\u001b[0;32m   2458\u001b[0m     \u001b[39m# Make args iterable too.\u001b[39;49;00m\n\u001b[0;32m   2459\u001b[0m     np\u001b[39m.\u001b[39;49matleast_1d(x), height, width, y, linewidth, hatch)\n\u001b[0;32m   2461\u001b[0m \u001b[39m# Now that units have been converted, set the tick locations.\u001b[39;00m\n\u001b[0;32m   2462\u001b[0m \u001b[39mif\u001b[39;00m orientation \u001b[39m==\u001b[39m \u001b[39m'\u001b[39m\u001b[39mvertical\u001b[39m\u001b[39m'\u001b[39m:\n",
            "File \u001b[1;32mc:\\Users\\pc\\Music\\etl-python-bigquery\\env_etl_python\\lib\\site-packages\\numpy\\lib\\stride_tricks.py:540\u001b[0m, in \u001b[0;36mbroadcast_arrays\u001b[1;34m(subok, *args)\u001b[0m\n\u001b[0;32m    533\u001b[0m \u001b[39m# nditer is not used here to avoid the limit of 32 arrays.\u001b[39;00m\n\u001b[0;32m    534\u001b[0m \u001b[39m# Otherwise, something like the following one-liner would suffice:\u001b[39;00m\n\u001b[0;32m    535\u001b[0m \u001b[39m# return np.nditer(args, flags=['multi_index', 'zerosize_ok'],\u001b[39;00m\n\u001b[0;32m    536\u001b[0m \u001b[39m#                  order='C').itviews\u001b[39;00m\n\u001b[0;32m    538\u001b[0m args \u001b[39m=\u001b[39m [np\u001b[39m.\u001b[39marray(_m, copy\u001b[39m=\u001b[39m\u001b[39mFalse\u001b[39;00m, subok\u001b[39m=\u001b[39msubok) \u001b[39mfor\u001b[39;00m _m \u001b[39min\u001b[39;00m args]\n\u001b[1;32m--> 540\u001b[0m shape \u001b[39m=\u001b[39m _broadcast_shape(\u001b[39m*\u001b[39;49margs)\n\u001b[0;32m    542\u001b[0m \u001b[39mif\u001b[39;00m \u001b[39mall\u001b[39m(array\u001b[39m.\u001b[39mshape \u001b[39m==\u001b[39m shape \u001b[39mfor\u001b[39;00m array \u001b[39min\u001b[39;00m args):\n\u001b[0;32m    543\u001b[0m     \u001b[39m# Common case where nothing needs to be broadcasted.\u001b[39;00m\n\u001b[0;32m    544\u001b[0m     \u001b[39mreturn\u001b[39;00m args\n",
            "File \u001b[1;32mc:\\Users\\pc\\Music\\etl-python-bigquery\\env_etl_python\\lib\\site-packages\\numpy\\lib\\stride_tricks.py:422\u001b[0m, in \u001b[0;36m_broadcast_shape\u001b[1;34m(*args)\u001b[0m\n\u001b[0;32m    417\u001b[0m \u001b[39m\u001b[39m\u001b[39m\"\"\"Returns the shape of the arrays that would result from broadcasting the\u001b[39;00m\n\u001b[0;32m    418\u001b[0m \u001b[39msupplied arrays against each other.\u001b[39;00m\n\u001b[0;32m    419\u001b[0m \u001b[39m\"\"\"\u001b[39;00m\n\u001b[0;32m    420\u001b[0m \u001b[39m# use the old-iterator because np.nditer does not handle size 0 arrays\u001b[39;00m\n\u001b[0;32m    421\u001b[0m \u001b[39m# consistently\u001b[39;00m\n\u001b[1;32m--> 422\u001b[0m b \u001b[39m=\u001b[39m np\u001b[39m.\u001b[39;49mbroadcast(\u001b[39m*\u001b[39;49margs[:\u001b[39m32\u001b[39;49m])\n\u001b[0;32m    423\u001b[0m \u001b[39m# unfortunately, it cannot handle 32 or more arguments directly\u001b[39;00m\n\u001b[0;32m    424\u001b[0m \u001b[39mfor\u001b[39;00m pos \u001b[39min\u001b[39;00m \u001b[39mrange\u001b[39m(\u001b[39m32\u001b[39m, \u001b[39mlen\u001b[39m(args), \u001b[39m31\u001b[39m):\n\u001b[0;32m    425\u001b[0m     \u001b[39m# ironically, np.broadcast does not properly handle np.broadcast\u001b[39;00m\n\u001b[0;32m    426\u001b[0m     \u001b[39m# objects (it treats them as scalars)\u001b[39;00m\n\u001b[0;32m    427\u001b[0m     \u001b[39m# use broadcasting to avoid allocating the full array\u001b[39;00m\n",
            "\u001b[1;31mValueError\u001b[0m: shape mismatch: objects cannot be broadcast to a single shape.  Mismatch is between arg 0 with shape (10,) and arg 1 with shape (4,)."
          ]
        },
        {
          "data": {
            "image/png": "[encoded data removed]",
            "text/plain": [
              "<Figure size 640x480 with 1 Axes>"
            ]
          },
          "metadata": {},
          "output_type": "display_data"
        }
      ],
      "source": [
        "import matplotlib.pyplot as plt\n",
        "\n",
        "fig, ax = plt.subplots()\n",
        "\n",
        "fruits = df_ventas[\"nombreVendedor\"]\n",
        "counts = [40, 100, 30, 55]\n",
        "\n",
        "bar_labels = ['red', 'blue', '_red', 'orange']\n",
        "bar_colors = ['tab:red', 'tab:blue', 'tab:red', 'tab:orange']\n",
        "\n",
        "\n",
        "ax.bar(fruits, counts, label=bar_labels, color=bar_colors)\n",
        "\n",
        "\n",
        "ax.set_ylabel('fruit supply')\n",
        "ax.set_title('Fruit supply by kind and color')\n",
        "ax.legend(title='Fruit color')\n",
        "\n",
        "plt.show()"
      ]
    },
    {
      "cell_type": "code",
      "execution_count": null,
      "metadata": {
        "id": "GveD-dpvFDFV",
        "outputId": "64b1ab84-c948-4b1e-cdf1-eee72ff6c51d"
      },
      "outputs": [
        {
          "data": {
            "text/html": [
              "<div>\n",
              "<style scoped>\n",
              "    .dataframe tbody tr th:only-of-type {\n",
              "        vertical-align: middle;\n",
              "    }\n",
              "\n",
              "    .dataframe tbody tr th {\n",
              "        vertical-align: top;\n",
              "    }\n",
              "\n",
              "    .dataframe thead th {\n",
              "        text-align: right;\n",
              "    }\n",
              "</style>\n",
              "<table border=\"1\" class=\"dataframe\">\n",
              "  <thead>\n",
              "    <tr style=\"text-align: right;\">\n",
              "      <th></th>\n",
              "      <th>nombreVendedor</th>\n",
              "      <th>cantidad_ventas</th>\n",
              "    </tr>\n",
              "  </thead>\n",
              "  <tbody>\n",
              "    <tr>\n",
              "      <th>0</th>\n",
              "      <td>Deisser Martinez</td>\n",
              "      <td>3</td>\n",
              "    </tr>\n",
              "    <tr>\n",
              "      <th>1</th>\n",
              "      <td>Fredy Saavedra</td>\n",
              "      <td>4</td>\n",
              "    </tr>\n",
              "    <tr>\n",
              "      <th>2</th>\n",
              "      <td>Maria Cisneros</td>\n",
              "      <td>3</td>\n",
              "    </tr>\n",
              "  </tbody>\n",
              "</table>\n",
              "</div>"
            ],
            "text/plain": [
              "     nombreVendedor  cantidad_ventas\n",
              "0  Deisser Martinez                3\n",
              "1    Fredy Saavedra                4\n",
              "2    Maria Cisneros                3"
            ]
          },
          "execution_count": 20,
          "metadata": {},
          "output_type": "execute_result"
        }
      ],
      "source": [
        "## agregacion y agrupación\n",
        "\n",
        "## cantidad de ventas realizadas por un vendedor\n",
        "\n",
        "cant_ventas=df_ventas.groupby('nombreVendedor').agg(cantidad_ventas=('nombreVendedor', 'count')).reset_index()\n",
        "\n",
        "cant_ventas\n",
        "\n"
      ]
    },
    {
      "cell_type": "code",
      "execution_count": null,
      "metadata": {
        "id": "YQZv4otDFDFW",
        "outputId": "9a5e7d5d-62dd-48ca-9c0e-b7cfdb5d947b"
      },
      "outputs": [
        {
          "name": "stderr",
          "output_type": "stream",
          "text": [
            "/Users/luissolis/Documents/DAP6/ETL - Python - Bigquery/env_etl_python/lib/python3.9/site-packages/seaborn/axisgrid.py:118: UserWarning: The figure layout has changed to tight\n",
            "  self._figure.tight_layout(*args, **kwargs)\n"
          ]
        },
        {
          "data": {
            "text/plain": [
              "<seaborn.axisgrid.FacetGrid at 0x7f9250ed0a90>"
            ]
          },
          "execution_count": 21,
          "metadata": {},
          "output_type": "execute_result"
        },
        {
          "data": {
            "image/png": "[encoded data removed]",
            "text/plain": [
              "<Figure size 500x500 with 1 Axes>"
            ]
          },
          "metadata": {},
          "output_type": "display_data"
        }
      ],
      "source": [
        "import seaborn as sns\n",
        "# crear la gráfica\n",
        "sns.catplot(x='nombreVendedor',\n",
        "            y='cantidad_ventas',\n",
        "            data=cant_ventas,\n",
        "            kind='bar')"
      ]
    },
    {
      "cell_type": "code",
      "execution_count": null,
      "metadata": {
        "id": "J92RcsknFDFW",
        "outputId": "6c071ef0-896e-4717-f64f-378e31bc035d"
      },
      "outputs": [
        {
          "data": {
            "text/html": [
              "<div>\n",
              "<style scoped>\n",
              "    .dataframe tbody tr th:only-of-type {\n",
              "        vertical-align: middle;\n",
              "    }\n",
              "\n",
              "    .dataframe tbody tr th {\n",
              "        vertical-align: top;\n",
              "    }\n",
              "\n",
              "    .dataframe thead th {\n",
              "        text-align: right;\n",
              "    }\n",
              "</style>\n",
              "<table border=\"1\" class=\"dataframe\">\n",
              "  <thead>\n",
              "    <tr style=\"text-align: right;\">\n",
              "      <th></th>\n",
              "      <th>nombreVendedor</th>\n",
              "      <th>cantidad_ventas</th>\n",
              "      <th>total_recaudo</th>\n",
              "    </tr>\n",
              "  </thead>\n",
              "  <tbody>\n",
              "    <tr>\n",
              "      <th>0</th>\n",
              "      <td>Deisser Martinez</td>\n",
              "      <td>3</td>\n",
              "      <td>1849.0</td>\n",
              "    </tr>\n",
              "    <tr>\n",
              "      <th>1</th>\n",
              "      <td>Fredy Saavedra</td>\n",
              "      <td>4</td>\n",
              "      <td>2050.0</td>\n",
              "    </tr>\n",
              "    <tr>\n",
              "      <th>2</th>\n",
              "      <td>Maria Cisneros</td>\n",
              "      <td>3</td>\n",
              "      <td>950.0</td>\n",
              "    </tr>\n",
              "  </tbody>\n",
              "</table>\n",
              "</div>"
            ],
            "text/plain": [
              "     nombreVendedor  cantidad_ventas  total_recaudo\n",
              "0  Deisser Martinez                3         1849.0\n",
              "1    Fredy Saavedra                4         2050.0\n",
              "2    Maria Cisneros                3          950.0"
            ]
          },
          "execution_count": 27,
          "metadata": {},
          "output_type": "execute_result"
        }
      ],
      "source": [
        "\n",
        "df_ventas_recaudo=df_ventas.groupby('nombreVendedor').agg(cantidad_ventas=('nombreVendedor', 'count'),\n",
        "                                        total_recaudo=('costoVenta', 'sum')).reset_index()\n",
        "df_ventas_recaudo"
      ]
    },
    {
      "cell_type": "code",
      "execution_count": null,
      "metadata": {
        "id": "UulnhqDCFDFW",
        "outputId": "685df664-73cd-4807-9ff1-e6c856e14943"
      },
      "outputs": [
        {
          "name": "stderr",
          "output_type": "stream",
          "text": [
            "/Users/luissolis/Documents/DAP6/ETL - Python - Bigquery/env_etl_python/lib/python3.9/site-packages/seaborn/axisgrid.py:118: UserWarning: The figure layout has changed to tight\n",
            "  self._figure.tight_layout(*args, **kwargs)\n"
          ]
        },
        {
          "data": {
            "text/plain": [
              "<seaborn.axisgrid.FacetGrid at 0x7f9241fb47c0>"
            ]
          },
          "execution_count": 31,
          "metadata": {},
          "output_type": "execute_result"
        },
        {
          "data": {
            "image/png": "[encoded data removed]",
            "text/plain": [
              "<Figure size 500x500 with 1 Axes>"
            ]
          },
          "metadata": {},
          "output_type": "display_data"
        }
      ],
      "source": [
        "sns.catplot(x='nombreVendedor',\n",
        "            y='total_recaudo',\n",
        "            data=df_ventas_recaudo,\n",
        "            kind='bar',\n",
        "            order=df_ventas_recaudo.sort_values('total_recaudo',ascending = True).nombreVendedor) # ordenar el gráfico\n"
      ]
    },
    {
      "cell_type": "code",
      "execution_count": null,
      "metadata": {
        "id": "xZD8NXsCFDFX",
        "outputId": "5e3c5024-e1bb-4e74-9075-3ad745c1205c"
      },
      "outputs": [
        {
          "data": {
            "text/html": [
              "<div>\n",
              "<style scoped>\n",
              "    .dataframe tbody tr th:only-of-type {\n",
              "        vertical-align: middle;\n",
              "    }\n",
              "\n",
              "    .dataframe tbody tr th {\n",
              "        vertical-align: top;\n",
              "    }\n",
              "\n",
              "    .dataframe thead th {\n",
              "        text-align: right;\n",
              "    }\n",
              "</style>\n",
              "<table border=\"1\" class=\"dataframe\">\n",
              "  <thead>\n",
              "    <tr style=\"text-align: right;\">\n",
              "      <th></th>\n",
              "      <th>nombreVendedor</th>\n",
              "      <th>cantidad_ventas</th>\n",
              "      <th>total_recaudo</th>\n",
              "    </tr>\n",
              "  </thead>\n",
              "  <tbody>\n",
              "    <tr>\n",
              "      <th>0</th>\n",
              "      <td>Deisser Martinez</td>\n",
              "      <td>3</td>\n",
              "      <td>1849.0</td>\n",
              "    </tr>\n",
              "    <tr>\n",
              "      <th>1</th>\n",
              "      <td>Fredy Saavedra</td>\n",
              "      <td>4</td>\n",
              "      <td>2050.0</td>\n",
              "    </tr>\n",
              "    <tr>\n",
              "      <th>2</th>\n",
              "      <td>Maria Cisneros</td>\n",
              "      <td>3</td>\n",
              "      <td>950.0</td>\n",
              "    </tr>\n",
              "  </tbody>\n",
              "</table>\n",
              "</div>"
            ],
            "text/plain": [
              "     nombreVendedor  cantidad_ventas  total_recaudo\n",
              "0  Deisser Martinez                3         1849.0\n",
              "1    Fredy Saavedra                4         2050.0\n",
              "2    Maria Cisneros                3          950.0"
            ]
          },
          "execution_count": 32,
          "metadata": {},
          "output_type": "execute_result"
        }
      ],
      "source": [
        "df_ventas_recaudo"
      ]
    },
    {
      "cell_type": "code",
      "execution_count": null,
      "metadata": {
        "id": "mgm8Rs9kFDFY",
        "outputId": "ef8bbc59-7c2f-4dcf-e364-c13b3de1493a"
      },
      "outputs": [
        {
          "data": {
            "text/html": [
              "<div>\n",
              "<style scoped>\n",
              "    .dataframe tbody tr th:only-of-type {\n",
              "        vertical-align: middle;\n",
              "    }\n",
              "\n",
              "    .dataframe tbody tr th {\n",
              "        vertical-align: top;\n",
              "    }\n",
              "\n",
              "    .dataframe thead th {\n",
              "        text-align: right;\n",
              "    }\n",
              "</style>\n",
              "<table border=\"1\" class=\"dataframe\">\n",
              "  <thead>\n",
              "    <tr style=\"text-align: right;\">\n",
              "      <th></th>\n",
              "      <th>nombreVendedor</th>\n",
              "      <th>cantidad_ventas</th>\n",
              "      <th>total_recaudo</th>\n",
              "    </tr>\n",
              "  </thead>\n",
              "  <tbody>\n",
              "    <tr>\n",
              "      <th>2</th>\n",
              "      <td>Maria Cisneros</td>\n",
              "      <td>3</td>\n",
              "      <td>950.0</td>\n",
              "    </tr>\n",
              "    <tr>\n",
              "      <th>1</th>\n",
              "      <td>Fredy Saavedra</td>\n",
              "      <td>4</td>\n",
              "      <td>2050.0</td>\n",
              "    </tr>\n",
              "    <tr>\n",
              "      <th>0</th>\n",
              "      <td>Deisser Martinez</td>\n",
              "      <td>3</td>\n",
              "      <td>1849.0</td>\n",
              "    </tr>\n",
              "  </tbody>\n",
              "</table>\n",
              "</div>"
            ],
            "text/plain": [
              "     nombreVendedor  cantidad_ventas  total_recaudo\n",
              "2    Maria Cisneros                3          950.0\n",
              "1    Fredy Saavedra                4         2050.0\n",
              "0  Deisser Martinez                3         1849.0"
            ]
          },
          "execution_count": 38,
          "metadata": {},
          "output_type": "execute_result"
        }
      ],
      "source": [
        "df_ventas_recaudo.sort_values('nombreVendedor',ascending = False)"
      ]
    },
    {
      "cell_type": "code",
      "execution_count": null,
      "metadata": {
        "id": "yiVqfSJTFDFY",
        "outputId": "e38549ae-93a2-4819-bbc0-71c15a5535da"
      },
      "outputs": [
        {
          "data": {
            "image/png": "[encoded data removed]",
            "text/plain": [
              "<Figure size 640x480 with 1 Axes>"
            ]
          },
          "metadata": {},
          "output_type": "display_data"
        }
      ],
      "source": [
        "#Definimos la paleta de colores con seaborn\n",
        "import  matplotlib.pyplot as plt\n",
        "colors = sns.color_palette('pastel')\n",
        "\n",
        "#creamos el grafico de pastel con matplotlib\n",
        "plt.pie(df_ventas_recaudo[\"total_recaudo\"], # valores\n",
        "        labels = df_ventas_recaudo[\"nombreVendedor\"], #labels secciones\n",
        "        colors = colors, autopct='%.0f%%')\n",
        "plt.show()"
      ]
    },
    {
      "cell_type": "markdown",
      "metadata": {
        "id": "T0DbLmuJFDFY"
      },
      "source": []
    }
  ],
  "metadata": {
    "colab": {
      "provenance": [],
      "toc_visible": true
    },
    "kernelspec": {
      "display_name": "env_etl_python",
      "language": "python",
      "name": "python3"
    },
    "language_info": {
      "codemirror_mode": {
        "name": "ipython",
        "version": 3
      },
      "file_extension": ".py",
      "mimetype": "text/x-python",
      "name": "python",
      "nbconvert_exporter": "python",
      "pygments_lexer": "ipython3",
      "version": "3.10.11"
    },
    "orig_nbformat": 4
  },
  "nbformat": 4,
  "nbformat_minor": 0
}
